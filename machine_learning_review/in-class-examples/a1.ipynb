{
  "nbformat": 4,
  "nbformat_minor": 0,
  "metadata": {
    "colab": {
      "provenance": [],
      "gpuType": "T4"
    },
    "kernelspec": {
      "name": "python3",
      "display_name": "Python 3"
    },
    "language_info": {
      "name": "python"
    },
    "accelerator": "GPU"
  },
  "cells": [
    {
      "cell_type": "markdown",
      "source": [
        "# Assignment 1 - Coding Section\n",
        "\n",
        "## Follow the codes, comments and the explanations. There are 3 problems in total which are worth 70 points. You are going to add your code in this notebook.\n",
        "\n",
        "### For this assignment, we will create a dataset consisting of black-and-white images of circles. The task is to estimate the radius and location of the ball based on the image using various Least Squares techniques.\n",
        "\n",
        "\n",
        "\n",
        "\n",
        "---\n",
        "\n",
        "\n",
        "# ***Important Note:***\n",
        "\n",
        "## You need to write your report, including the results, plots, and analyses/discussion, in a PDF file. Submit this PDF file along with your theory solutions. Additionally, upload your Jupyter notebook (.ipynb) file alongside the PDF.\n",
        "\n",
        "\n",
        "\n",
        "\n",
        "\n"
      ],
      "metadata": {
        "id": "Mug_cKdlFtiG"
      }
    },
    {
      "cell_type": "markdown",
      "source": [
        "#Section One: Dataset"
      ],
      "metadata": {
        "id": "d532ZIBzKDkM"
      }
    },
    {
      "cell_type": "markdown",
      "source": [
        "## Importing necessary libraries\n",
        "\n",
        "\n"
      ],
      "metadata": {
        "id": "e85Fn5yDoycd"
      }
    },
    {
      "cell_type": "code",
      "source": [
        "import numpy as np                # NumPy: Numerical computing with arrays and matrices\n",
        "import pandas as pd               # Pandas: Data manipulation and analysis with DataFrames\n",
        "import cv2                        # OpenCV: Computer vision, image, and video processing\n",
        "import random                     # Random: Generating random numbers and selections\n",
        "import matplotlib.pyplot as plt   # Matplotlib: Creating visualizations and plots\n",
        "from PIL import Image, ImageDraw  # Pillow: Image file opening, manipulation, and saving\n",
        "from sklearn.model_selection import train_test_split  # Scikit-learn: Splitting datasets for machine learning"
      ],
      "metadata": {
        "id": "oWZ3u-ZK2l-F"
      },
      "execution_count": 46,
      "outputs": []
    },
    {
      "cell_type": "markdown",
      "source": [
        "## Parameters"
      ],
      "metadata": {
        "id": "15p39AfEpKGi"
      }
    },
    {
      "cell_type": "code",
      "source": [
        "image_size = 30                       # Size of the generated images (30x30 pixels)\n",
        "min_radius = 3                        # Minimum circle radius in pixels\n",
        "max_radius = image_size // 2 - 2      # Maximum circle radius, ensuring circles fit within the image\n",
        "total_size = 2200                     # Total number of images to generate\n",
        "noise_level = 0.8                     # Noise level to add to the images\n",
        "\n",
        "csv_filename = 'generated_images_masks.csv'  # Filename for saving the generated data as a CSV"
      ],
      "metadata": {
        "id": "_SIkZcT_26gZ"
      },
      "execution_count": 47,
      "outputs": []
    },
    {
      "cell_type": "markdown",
      "source": [
        "## Generating the Dataset\n",
        "\n",
        "This code generates a synthetic dataset of binary images with circular objects embedded within them.\n",
        "\n",
        "- **Image Size**: Each generated image is 30x30 pixels.\n",
        "- **Circle Properties**:\n",
        "  - **Radius**: Randomly chosen between 3 and 13 pixels (ensuring the circle fits within the image boundaries).\n",
        "  - **Position**: The center of the circle is randomly positioned within the image while ensuring the circle remains fully inside the image boundaries.\n",
        "- **Noise Level**: Random noise is added to each image, controlled by a `noise_level` parameter (default is 0.8).\n",
        "- **Total Images**: A total of 2,200 images are generated.\n",
        "- **Metadata**: Each image is accompanied by metadata, including the circle's radius and its center coordinates `(x, y)`.\n",
        "\n",
        "The dataset is saved as a CSV file named `generated_images_masks.csv`, where each row corresponds to a single image, with the first three columns representing the metadata (`radius`, `x`, `y`) and the remaining columns representing the flattened pixel values of the binary image.\n",
        "\n",
        "\n",
        "\n",
        "\n",
        "### Dataset Dimensions\n",
        "\n",
        "- **Feature Dimensions**: The dataset includes 900 pixel values per image. These pixel values are flattened into a 1D array to create the feature set for each image.\n",
        "- **Target Variables**: The target variables in the dataset are the circle's radius (`radius`) and its center coordinates (`x`, `y`).\n",
        "- **Overall Dataset Dimensions**: The resulting dataset has 2,200 rows (one for each image) and 903 columns (3 columns for metadata: `radius`, `x`, `y`, and 900 columns for the pixel values).\n"
      ],
      "metadata": {
        "id": "A-GUqd-fO4m4"
      }
    },
    {
      "cell_type": "code",
      "source": [
        "def generate_image_with_metadata(image_size, radius, x, y, noise_level=0.8):\n",
        "    \"\"\"\n",
        "    Generate a binary mask with a circle, add random noise, attach metadata (radius, x, y), and return the flattened mask.\n",
        "\n",
        "    noise_level: Controls the amount of random noise added (default is 0.8).\n",
        "    \"\"\"\n",
        "    # Create a black background image\n",
        "    img = Image.new('1', (image_size, image_size), color=0)\n",
        "    draw = ImageDraw.Draw(img)\n",
        "\n",
        "    # Draw the circle on the binary mask\n",
        "    draw.ellipse((x - radius, y - radius, x + radius, y + radius), fill=1)\n",
        "\n",
        "    # Add random noise to the image\n",
        "    noise = np.random.rand(image_size, image_size) > noise_level  # Generate random noise\n",
        "    noisy_mask = np.logical_and(img, noise).astype(np.float32)  # Apply noise to the mask\n",
        "\n",
        "    # Flatten the noisy mask into a 1D array\n",
        "    flattened_mask = noisy_mask.flatten()\n",
        "\n",
        "    # Store the metadata (radius, x, y)\n",
        "    metadata = [radius, x, y]\n",
        "\n",
        "    # Combine metadata with the binary mask\n",
        "    return np.array(metadata + flattened_mask.tolist())\n",
        "\n",
        "\n",
        "def generate_images_with_masks(total_size, image_size, min_radius, max_radius):\n",
        "    \"\"\"\n",
        "    Generate multiple images with masks by calling the image generation function.\n",
        "    \"\"\"\n",
        "    data = []  # List to store masks and metadata\n",
        "\n",
        "    for _ in range(total_size):\n",
        "        # Randomly choose the radius and center (x, y)\n",
        "        radius = random.randint(min_radius, max_radius)\n",
        "        x = random.randint(radius + 1, image_size - radius - 1)\n",
        "        y = random.randint(radius + 1, image_size - radius - 1)\n",
        "\n",
        "        # Generate a single image with mask and metadata\n",
        "        single_image_data = generate_image_with_metadata(image_size, radius, x, y, noise_level)\n",
        "        data.append(single_image_data)\n",
        "\n",
        "    return np.array(data)"
      ],
      "metadata": {
        "id": "X6fYr-yr7aRa"
      },
      "execution_count": 48,
      "outputs": []
    },
    {
      "cell_type": "code",
      "source": [
        "# Generate images with masks (returns a dataset including radius, x, y, and pixel values)\n",
        "data = generate_images_with_masks(total_size, image_size, min_radius, max_radius)\n",
        "\n",
        "# Define column names for the DataFrame: radius, x, y, and pixel values\n",
        "columns = ['radius', 'x', 'y'] + [f'Pixel_{i}' for i in range(image_size * image_size)]\n",
        "\n",
        "# Create a DataFrame from the generated data with the specified columns\n",
        "df = pd.DataFrame(data, columns=columns)\n",
        "\n",
        "# Save the DataFrame to a CSV file without including the index\n",
        "df.to_csv(csv_filename, index=False)\n",
        "\n",
        "# Notify the user that the data has been saved to the specified CSV file\n",
        "print(f\"Data saved to {csv_filename}\")"
      ],
      "metadata": {
        "id": "lEa8xXOH8dHu",
        "colab": {
          "base_uri": "https://localhost:8080/"
        },
        "outputId": "ca42ab98-c022-49d1-f339-45fc30fac69e"
      },
      "execution_count": 49,
      "outputs": [
        {
          "output_type": "stream",
          "name": "stdout",
          "text": [
            "Data saved to generated_images_masks.csv\n"
          ]
        }
      ]
    },
    {
      "cell_type": "markdown",
      "source": [
        "## Visual Exploration of Sample Data Points\n"
      ],
      "metadata": {
        "id": "Dj_3uhbJPODa"
      }
    },
    {
      "cell_type": "code",
      "source": [
        "# Function to visualize the image\n",
        "def visualize(image_data, image_size):\n",
        "    \"\"\"\n",
        "    Visualize the image given an array of image data and return the plot object.\n",
        "\n",
        "    Parameters:\n",
        "    - image_data: A NumPy array containing image metadata and mask.\n",
        "    - image_size: The size of the image (width and height, assumed square).\n",
        "\n",
        "    Returns:\n",
        "    - fig, ax: The matplotlib figure and axes objects for further modification.\n",
        "    \"\"\"\n",
        "    # Extract metadata from the array (radius and circle center coordinates)\n",
        "    radius = int(image_data[0])\n",
        "    x = int(image_data[1])\n",
        "    y = int(image_data[2])\n",
        "\n",
        "    # Extract the binary mask from the remaining part of the array\n",
        "    mask = image_data[3:].astype(np.uint8).reshape(image_size, image_size)\n",
        "\n",
        "    # Create a grayscale image from the mask\n",
        "    img = np.zeros((image_size, image_size), dtype=np.uint8)  # Initialize the image with zeros (black)\n",
        "    img[mask == 1] = 255  # Set the circle area to white (255)\n",
        "\n",
        "    # Create a figure and axis for plotting\n",
        "    fig, ax = plt.subplots()\n",
        "    ax.imshow(img, cmap='gray')  # Display the image in grayscale\n",
        "    ax.set_title(f\"Circle at center ({x}, {y}) with radius {radius}\")  # Set title with circle metadata\n",
        "    ax.axis('off')  # Turn off axis labels and ticks\n",
        "\n",
        "    # Return the figure and axis for further customization\n",
        "    return fig, ax"
      ],
      "metadata": {
        "id": "2Y0ZCLfY9SZz"
      },
      "execution_count": 50,
      "outputs": []
    },
    {
      "cell_type": "code",
      "source": [
        "# Read the CSV file into a DataFrame\n",
        "df = pd.read_csv(csv_filename)\n",
        "\n",
        "# Prompt the user to enter an image index and extract the corresponding row\n",
        "image_index = int(input(\"Enter the image index: \"))\n",
        "image_data = df.iloc[image_index].values  # Get the data for the specified image index\n",
        "\n",
        "# Visualize the selected image from the DataFrame\n",
        "_, _ = visualize(image_data, image_size)  # Call the visualize function to display the image"
      ],
      "metadata": {
        "id": "oCtB1orRcubo",
        "colab": {
          "base_uri": "https://localhost:8080/",
          "height": 445
        },
        "outputId": "5d25a273-053c-4b45-84be-2b6e8ed73dd3"
      },
      "execution_count": 51,
      "outputs": [
        {
          "name": "stdout",
          "output_type": "stream",
          "text": [
            "Enter the image index: 10\n"
          ]
        },
        {
          "output_type": "display_data",
          "data": {
            "text/plain": [
              "<Figure size 640x480 with 1 Axes>"
            ],
            "image/png": "[encoded data removed]"
          },
          "metadata": {}
        }
      ]
    },
    {
      "cell_type": "markdown",
      "source": [
        "# Section Two: Important functions\n",
        "Including OLS Solver with MSE and Data Augmentation"
      ],
      "metadata": {
        "id": "Ut13k8BopY9D"
      }
    },
    {
      "cell_type": "code",
      "source": [
        "# Function to solve ordinary least squares (OLS)\n",
        "def solve_ols(X_train, Y_train, X_other, alpha):\n",
        "    \"\"\"\n",
        "    Solves the OLS regression problem with regularization (RLS).\n",
        "\n",
        "    Parameters:\n",
        "    - X_train: The training input data (features).\n",
        "    - Y_train: The training output data (targets).\n",
        "    - X_other: The input data (features) for the other dataset (e.g., validation or test).\n",
        "    - alpha: Regularization parameter.\n",
        "\n",
        "    Returns:\n",
        "    - Y_LS_train: Predicted outputs for the training data.\n",
        "    - Y_LS_other: Predicted outputs for the other dataset.\n",
        "    \"\"\"\n",
        "    # Calculate the weights (W) using the pseudo-inverse and regularization\n",
        "    W = np.dot(np.linalg.pinv(np.dot(X_train.T, X_train) + alpha * np.identity(np.shape(X_train)[1])), np.dot(X_train.T, Y_train))\n",
        "\n",
        "\n",
        "    Y_LS_train = np.dot(X_train, W)\n",
        "    Y_LS_other = np.dot(X_other, W)\n",
        "    # Return predictions for both training and other data\n",
        "    return Y_LS_train, Y_LS_other"
      ],
      "metadata": {
        "id": "RnzSm6NvoHH5"
      },
      "execution_count": 52,
      "outputs": []
    },
    {
      "cell_type": "code",
      "source": [
        "# Function to run OLS, compute MSE, and output results and labels\n",
        "def run_ols(X_train, X_other, Y_train, Y_other, alpha, augment=False):\n",
        "    \"\"\"\n",
        "    Runs the OLS regression, computes the MSE for both training and another dataset (e.g., validation/test), and returns results.\n",
        "\n",
        "    Parameters:\n",
        "    - X_train: The training input data (features).\n",
        "    - X_other: The input data (features) for the other dataset (e.g., validation or test).\n",
        "    - Y_train: The training output data (targets).\n",
        "    - Y_other: The output data (targets) for the other dataset (e.g., validation or test).\n",
        "    - alpha: Regularization parameter (ridge regression).\n",
        "    - augment: Boolean indicating whether to augment data by adding a bias term.\n",
        "\n",
        "    Returns:\n",
        "    - mse_train: Mean squared error on the training set.\n",
        "    - mse_other: Mean squared error on the other dataset.\n",
        "    - Y_LS_train: Predicted outputs for the training data.\n",
        "    - Y_LS_other: Predicted outputs for the other dataset.\n",
        "    \"\"\"\n",
        "    if augment:\n",
        "        # Augment the data by adding a bias term (column of ones)\n",
        "        X_train = augment_data(X_train)\n",
        "        X_other = augment_data(X_other)\n",
        "\n",
        "    # Perform OLS regression to get predictions\n",
        "    Y_LS_train, Y_LS_other = solve_ols(X_train, Y_train, X_other, alpha)\n",
        "\n",
        "    # Compute MSE for train and other datasets\n",
        "    mse_train = compute_mse(Y_LS_train, Y_train)\n",
        "    mse_other = compute_mse(Y_LS_other, Y_other)\n",
        "\n",
        "    # Return the MSE and predictions\n",
        "    return mse_train, mse_other, Y_LS_train, Y_LS_other"
      ],
      "metadata": {
        "id": "8nVlcBC4hqM0"
      },
      "execution_count": 53,
      "outputs": []
    },
    {
      "cell_type": "code",
      "source": [
        "# Function to compute mean squared error (MSE)\n",
        "def compute_mse(Y_pred, Y_true):\n",
        "    \"\"\"\n",
        "    Computes the Mean Squared Error (MSE) between predicted and true values.\n",
        "\n",
        "    Parameters:\n",
        "    - Y_pred: Predicted values.\n",
        "    - Y_true: True values.\n",
        "\n",
        "    Returns:\n",
        "    - mse: The mean squared error.\n",
        "    \"\"\"\n",
        "    mse = np.square(np.linalg.norm(Y_pred - Y_true)) / Y_true.size\n",
        "    return mse"
      ],
      "metadata": {
        "id": "Eba3gdpEhvO5"
      },
      "execution_count": 54,
      "outputs": []
    },
    {
      "cell_type": "code",
      "source": [
        "# Function to augment data by adding a bias (for non-homogeneous models)\n",
        "def augment_data(X):\n",
        "    \"\"\"\n",
        "    Augments the data by adding a bias column (column of ones).\n",
        "\n",
        "    Parameters:\n",
        "    - X: The input data to augment.\n",
        "\n",
        "    Returns:\n",
        "    - Augmented input data with an added bias column.\n",
        "    \"\"\"\n",
        "    ones_column = np.ones((X.shape[0], 1))\n",
        "    return np.concatenate((X, ones_column), axis=1)"
      ],
      "metadata": {
        "id": "i58E89zjhxnQ"
      },
      "execution_count": 55,
      "outputs": []
    },
    {
      "cell_type": "code",
      "source": [
        "# Function to report true and predicted circles\n",
        "def prediction_report(true_data, predicted_data, predicted_data_aug, index):\n",
        "    \"\"\"\n",
        "    Prints a report of true and predicted circle parameters (radius and center coordinates).\n",
        "\n",
        "    Parameters:\n",
        "    - true_data: Array containing true circle parameters (radius, x, y).\n",
        "    - predicted_data: Array containing predicted circle parameters using a homogeneous model.\n",
        "    - predicted_data_aug: Array containing predicted circle parameters using a non-homogeneous model.\n",
        "    - index: Index of the circle data to report.\n",
        "\n",
        "    Outputs:\n",
        "    - Prints the true and predicted values for the selected circle.\n",
        "    \"\"\"\n",
        "    # Extract true and predicted values for the selected index\n",
        "    true_radius, true_x, true_y = true_data[index]\n",
        "    pred_radius, pred_x, pred_y = predicted_data[index]\n",
        "    augp_radius, augp_x, augp_y = predicted_data_aug[index]\n",
        "\n",
        "    # Report the true and predicted values\n",
        "    print(f\"True values - Radius: {true_radius}, x: {true_x}, y: {true_y}\")\n",
        "    print(f\"Predicted homogeneous model values - Radius: {pred_radius:.2f}, x: {pred_x:.2f}, y: {pred_y:.2f}\")\n",
        "    print(f\"Predicted non-homogeneous model values - Radius: {augp_radius:.2f}, x: {augp_x:.2f}, y: {augp_y:.2f}\")"
      ],
      "metadata": {
        "id": "E24S2BzahztE"
      },
      "execution_count": 56,
      "outputs": []
    },
    {
      "cell_type": "markdown",
      "source": [
        "# Section Three: Questions"
      ],
      "metadata": {
        "id": "uNDegoi7I1Rp"
      }
    },
    {
      "cell_type": "markdown",
      "source": [
        "## PROBLEM 1 (20 marks): Predicting radius, x, and y using OLS"
      ],
      "metadata": {
        "id": "roajzvS5Ggbr"
      }
    },
    {
      "cell_type": "code",
      "source": [
        "# Load dataset from the CSV file\n",
        "df = pd.read_csv(csv_filename)  # Load the image data with metadata from a CSV file\n",
        "\n",
        "# Extract features by dropping the target columns ('radius', 'x', 'y')\n",
        "X = df.drop(columns=['radius', 'x', 'y']).values  # Features (only pixel data)\n",
        "\n",
        "# Extract target values (radius, x, and y)\n",
        "Y = df[['radius', 'x', 'y']].values  # Labels (radius, x, and y)"
      ],
      "metadata": {
        "id": "P8V93nfIHPJI"
      },
      "execution_count": 57,
      "outputs": []
    },
    {
      "cell_type": "markdown",
      "source": [
        "\n",
        "\n",
        "---\n",
        "\n",
        "\n",
        "\n",
        "---\n",
        "\n",
        "\n",
        "\n",
        "### PART 1 (10 marks):\n",
        "\n",
        "---\n",
        "\n",
        "\n",
        "\n",
        "---\n",
        "\n",
        "\n",
        "1. ### Divide the dataset into three parts: 1800 samples for training, 200 samples for validation, and 200 samples for testing. Perform linear OLS (without regularization) on the training samples twice—first with a homogeneous model (i.e., where the y-intercepts are zero) and then with a non-homogeneous model (allowing for a non-zero y-intercept). Report the MSE on both the training data and the validation data for each model.\n",
        "\n",
        "3. ### Compare the results. Which approach performs better? Why? Apply the better-performing approach to the test set and report the MSE.\n",
        "\n",
        "2. ### Do you observe significant overfitting in any of the cases?\n",
        "\n",
        "\n",
        "\n",
        "\n",
        "\n",
        "\n",
        "\n",
        "\n"
      ],
      "metadata": {
        "id": "TmQRTNYVEmYi"
      }
    },
    {
      "cell_type": "code",
      "source": [
        "# Specify the number of training, validation, testing samples.\n",
        "\n",
        "    ############################################################################\n",
        "    ############################################################################\n",
        "    #### Use the variable names \"train_size\", \"valid_size\", and \"test_size\" ####\n",
        "    #### for the training, validation, and test sizes, respectively.        ####\n",
        "    ############################################################################\n",
        "    ############################################################################\n",
        "\n",
        "train_size = 1800\n",
        "valid_size = 200\n",
        "test_size = 200\n"
      ],
      "metadata": {
        "id": "QTEQgRSuHeiP"
      },
      "execution_count": 58,
      "outputs": []
    },
    {
      "cell_type": "code",
      "source": [
        "def split_dataset(X, Y, total_size, train_size, valid_size):\n",
        "    \"\"\"\n",
        "    Splits the dataset into training, validation, and test sets.\n",
        "\n",
        "    Parameters:\n",
        "    X (array-like): Feature data.\n",
        "    Y (array-like): Target data.\n",
        "    total_size: Total number of data to consider.\n",
        "    train_size: number of the data to include in the training set.\n",
        "    valid_size: number of the data to include in the validation set.\n",
        "\n",
        "    Returns:\n",
        "    X_train, X_valid, X_test, Y_train, Y_valid, Y_test: Split datasets.\n",
        "\n",
        "    \"\"\"\n",
        "\n",
        "    ##############################################\n",
        "    ##############################################\n",
        "    #### DO NOT CHANGE THE INPUTS AND OUTPUTS ####\n",
        "    ##############################################\n",
        "    ##############################################\n",
        "\n",
        "    X_train, X_remaining, Y_train, Y_remaining = train_test_split(X, Y, train_size=train_size/total_size, random_state=42)\n",
        "    # Split the remaining data into validation and test sets\n",
        "    X_valid, X_test, Y_valid, Y_test = train_test_split(X_remaining, Y_remaining, train_size=valid_size/(total_size-train_size), random_state=42)\n",
        "\n",
        "\n",
        "    ################################################\n",
        "    ################################################\n",
        "    #### HINT: you can use the train_test_split ####\n",
        "    #### function from sklearn.model_selection  ####\n",
        "    ################################################\n",
        "    ################################################\n",
        "\n",
        "    return X_train, X_valid, X_test, Y_train, Y_valid, Y_test"
      ],
      "metadata": {
        "id": "xrSPPiXhurQt"
      },
      "execution_count": 59,
      "outputs": []
    },
    {
      "cell_type": "code",
      "source": [
        "# Here we use the previous function to split our dataset into three parts.\n",
        "X_train, X_valid, X_test, Y_train, Y_valid, Y_test = split_dataset(X, Y, total_size, train_size, valid_size)"
      ],
      "metadata": {
        "id": "XbXDYykHOIkh"
      },
      "execution_count": 60,
      "outputs": []
    },
    {
      "cell_type": "code",
      "source": [
        "# Run OLS regression without adding a bias term (homogeneous model)\n",
        "\n",
        "mse_train_h, mse_valid_h, Y_LS_train_h, Y_LS_valid_h = run_ols(X_train, X_valid, Y_train, Y_valid, 0, augment=False)\n",
        "\n",
        "# Output the results for the homogeneous model\n",
        "\n",
        "print(f\"MSE on validation data: {mse_valid_h}\")"
      ],
      "metadata": {
        "id": "YVVpEyqREXX8",
        "colab": {
          "base_uri": "https://localhost:8080/"
        },
        "outputId": "16f57043-96c9-4e36-d11b-ffdbcd351584"
      },
      "execution_count": 61,
      "outputs": [
        {
          "output_type": "stream",
          "name": "stdout",
          "text": [
            "MSE on validation data: 93.21870200576788\n"
          ]
        }
      ]
    },
    {
      "cell_type": "code",
      "source": [
        "# Run OLS regression with a bias term added (non-homogeneous model)\n",
        "\n",
        "mse_train_nh, mse_valid_nh, Y_LS_train_nh, Y_LS_valid_nh = run_ols(X_train, X_valid, Y_train, Y_valid, 0, augment=True)\n",
        "\n",
        "# Output the results for the non-homogeneous model\n",
        "\n",
        "print(f\"MSE on validation data: {mse_valid_nh}\")"
      ],
      "metadata": {
        "id": "9gADWceHOGKI",
        "colab": {
          "base_uri": "https://localhost:8080/"
        },
        "outputId": "339129f6-52ff-4b62-82a8-b95afcba6944"
      },
      "execution_count": 62,
      "outputs": [
        {
          "output_type": "stream",
          "name": "stdout",
          "text": [
            "MSE on validation data: 12.131804381460546\n"
          ]
        }
      ]
    },
    {
      "cell_type": "code",
      "source": [
        "# In this code you can see the predictions you've made using your model.\n",
        "\n",
        "# Prompt the user to enter an index for prediction reporting\n",
        "index = int(input(\"Enter the index for prediction: \"))\n",
        "\n",
        "# Generate and print the prediction report for the specified index\n",
        "# Use the prediction_report function and index to see your predictions\n",
        "\n",
        "prediction_report(Y_train, Y_LS_train_h, Y_LS_train_nh, index)\n",
        "\n"
      ],
      "metadata": {
        "id": "ztzdrN97AzcL",
        "colab": {
          "base_uri": "https://localhost:8080/"
        },
        "outputId": "5e2acc54-851e-4594-cefe-03c5300ccbaa"
      },
      "execution_count": 63,
      "outputs": [
        {
          "output_type": "stream",
          "name": "stdout",
          "text": [
            "Enter the index for prediction: 10\n",
            "True values - Radius: 9.0, x: 16.0, y: 18.0\n",
            "Predicted homogeneous model values - Radius: 8.10, x: 12.56, y: 17.42\n",
            "Predicted non-homogeneous model values - Radius: 8.53, x: 14.65, y: 19.50\n"
          ]
        }
      ]
    },
    {
      "cell_type": "code",
      "source": [
        "# Run OLS regression with a bias term added on test set\n",
        "\n",
        "mse_train_nh, mse_test_nh, Y_LS_train_nh, Y_LS_test_nh = run_ols(X_train, X_test, Y_train, Y_test, 0, augment=True)\n",
        "\n",
        "print(f\"MSE on test data: {mse_test_nh}\")"
      ],
      "metadata": {
        "id": "J2TUoETT6db-",
        "colab": {
          "base_uri": "https://localhost:8080/"
        },
        "outputId": "73d86e88-c2cf-4a76-8b2a-8cfb4d345dd0"
      },
      "execution_count": 64,
      "outputs": [
        {
          "output_type": "stream",
          "name": "stdout",
          "text": [
            "MSE on test data: 6.752516213105869\n"
          ]
        }
      ]
    },
    {
      "cell_type": "markdown",
      "source": [
        "\n",
        "\n",
        "---\n",
        "\n",
        "\n",
        "\n",
        "---\n",
        "\n",
        "\n",
        "\n",
        "### PART 2 (10 marks):\n",
        "\n",
        "\n",
        "---\n",
        "\n",
        "\n",
        "\n",
        "---\n",
        "\n",
        "\n",
        "1. ### Divide the dataset into three parts: 200 samples for training, 1800 samples for validation, and 200 samples for testing. Perform linear OLS (without regularization) on the training samples twice—first with a homogeneous model (i.e., where the y-intercepts are zero) and then with a non-homogeneous model (allowing for a non-zero y-intercept). Report the MSE on both the training data and the validation data for each model.\n",
        "\n",
        "2. ### Compare these results with those from the previous part. Do you observe less overfitting or more overfitting? How did you arrive at this conclusion?\n",
        "\n"
      ],
      "metadata": {
        "id": "3LemqBWFFq5G"
      }
    },
    {
      "cell_type": "code",
      "source": [
        "# Specify the number of training, validation, testing samples.\n",
        "\n",
        "train_size = 200\n",
        "valid_size = 1800\n",
        "test_size = 200"
      ],
      "metadata": {
        "id": "NAUFgyKqHla4"
      },
      "execution_count": 65,
      "outputs": []
    },
    {
      "cell_type": "code",
      "source": [
        "# Here we use the split_dataset function to split our dataset into three parts.\n",
        "X_train, X_valid, X_test, Y_train, Y_valid, Y_test = split_dataset(X, Y, total_size, train_size, valid_size)"
      ],
      "metadata": {
        "id": "FmTeeS5fPMny"
      },
      "execution_count": 66,
      "outputs": []
    },
    {
      "cell_type": "code",
      "source": [
        "# Run OLS regression without adding a bias term (homogeneous model)\n",
        "\n",
        "mse_train_h, mse_valid_h, Y_LS_train_h, Y_LS_valid_h = run_ols(X_train, X_valid, Y_train, Y_valid, 0, augment=False)\n",
        "\n",
        "# Output the results for the homogeneous model\n",
        "\n",
        "print(f\"MSE on validation data: {mse_valid_h}\")"
      ],
      "metadata": {
        "id": "IXEfgyU1PXzP",
        "colab": {
          "base_uri": "https://localhost:8080/"
        },
        "outputId": "fcc7e598-1dd9-4e4d-dced-84052bbb5195"
      },
      "execution_count": 67,
      "outputs": [
        {
          "output_type": "stream",
          "name": "stdout",
          "text": [
            "MSE on validation data: 136.1720097569239\n"
          ]
        }
      ]
    },
    {
      "cell_type": "code",
      "source": [
        "# Run OLS regression with a bias term added (non-homogeneous model)\n",
        "\n",
        "mse_train_nh, mse_valid_nh, Y_LS_train_nh, Y_LS_valid_nh = run_ols(X_train, X_valid, Y_train, Y_valid, 0, augment=True)\n",
        "\n",
        "# Output the results for the non-homogeneous model\n",
        "\n",
        "print(f\"MSE on validation data: {mse_valid_nh}\")"
      ],
      "metadata": {
        "id": "qn2M609vPZ94",
        "colab": {
          "base_uri": "https://localhost:8080/"
        },
        "outputId": "43123b8e-f213-47ce-f8bf-bc836dfecefe"
      },
      "execution_count": 68,
      "outputs": [
        {
          "output_type": "stream",
          "name": "stdout",
          "text": [
            "MSE on validation data: 14.035596029110454\n"
          ]
        }
      ]
    },
    {
      "cell_type": "code",
      "source": [
        "# In this code you can see the predictions you've made using your model.\n",
        "\n",
        "# Prompt the user to enter an index for prediction reporting\n",
        "index = int(input(\"Enter the index for prediction: \"))\n",
        "\n",
        "# Generate and print the prediction report for the specified index\n",
        "# Use the prediction_report function and index to see your predictions\n",
        "\n",
        "prediction_report(Y_train, Y_LS_train_h, Y_LS_train_nh, index)"
      ],
      "metadata": {
        "id": "aka2smhQ0jBo",
        "colab": {
          "base_uri": "https://localhost:8080/"
        },
        "outputId": "6e6b0546-ad9e-44b3-92dc-4fb27ab2bd8c"
      },
      "execution_count": 69,
      "outputs": [
        {
          "output_type": "stream",
          "name": "stdout",
          "text": [
            "Enter the index for prediction: 10\n",
            "True values - Radius: 5.0, x: 21.0, y: 13.0\n",
            "Predicted homogeneous model values - Radius: 5.00, x: 21.00, y: 13.00\n",
            "Predicted non-homogeneous model values - Radius: 5.00, x: 21.00, y: 13.00\n"
          ]
        }
      ]
    },
    {
      "cell_type": "code",
      "source": [
        "# Run OLS regression with a bias term added on test set\n",
        "\n",
        "mse_train_nh, mse_test_nh, Y_LS_train_nh, Y_LS_test_nh = run_ols(X_train, X_test, Y_train, Y_test, 0, augment=True)\n",
        "\n",
        "# Output the results for the better performing approach\n",
        "\n",
        "print(f\"MSE on test data: {mse_test_nh}\")"
      ],
      "metadata": {
        "id": "t8HnRa8T7uIX",
        "colab": {
          "base_uri": "https://localhost:8080/"
        },
        "outputId": "d9d1f850-4348-41c7-da68-98547b5008df"
      },
      "execution_count": 70,
      "outputs": [
        {
          "output_type": "stream",
          "name": "stdout",
          "text": [
            "MSE on test data: 14.65811160203486\n"
          ]
        }
      ]
    },
    {
      "cell_type": "markdown",
      "source": [
        "## PROBLEM 2 (20 marks): Regularized Least Squares\n",
        "\n"
      ],
      "metadata": {
        "id": "cQCxA56yG7LH"
      }
    },
    {
      "cell_type": "code",
      "source": [
        "# Load dataset from the CSV file\n",
        "df = pd.read_csv(csv_filename)  # Load the image data with metadata from a CSV file\n",
        "\n",
        "# Extract features by dropping the target columns ('radius', 'x', 'y')\n",
        "X = df.drop(columns=['radius', 'x', 'y']).values  # Features (only pixel data)\n",
        "\n",
        "# Extract target values (radius, x, and y)\n",
        "Y = df[['radius', 'x', 'y']].values  # Labels (radius, x, and y)"
      ],
      "metadata": {
        "id": "LkvOHV4UHH3s"
      },
      "execution_count": 71,
      "outputs": []
    },
    {
      "cell_type": "markdown",
      "source": [
        "\n",
        "\n",
        "---\n",
        "\n",
        "\n",
        "\n",
        "---\n",
        "\n",
        "\n",
        "\n",
        "### PART 1 (15 marks):\n",
        "\n",
        "---\n",
        "\n",
        "\n",
        "\n",
        "---\n",
        "\n",
        "1. ### Divide the Dataset into Three Parts:\n",
        "- **Training Data**: Select **200 data points**.\n",
        "- **Validation Data**: Assign **1800 data points**.\n",
        "- **Testing Data**: Set aside the **remaining 200 data points** for testing.\n",
        "\n",
        "\n",
        "2. ### Run Regularized Least Squares (non-homogeneous) using 200 training data points. Choose various values of lambda within the range {exp(-2), exp(-1.5), exp(-1), …, exp(3.5), exp(4)}. This corresponds to λ values ranging from exp(-2) to exp(4) with a step size of 0.5. For each value of lambda, Run Regularized Least Squares (non-homogeneous) using 200 training data points. Compute the Training MSE and Validation MSE.\n",
        "\n",
        "\n",
        "3. ### Plot the Training MSE and Validation MSE as functions of lambda.\n",
        "\n",
        "\n",
        "\n",
        "\n",
        "\n",
        "* **IMPORTANT NOTE:** Use the variable name \"alpha\" for the values of the regularization parameter (previously referred to as \"lambda\") in Python code, since \"lambda\" is a reserved keyword in Python."
      ],
      "metadata": {
        "id": "40bUV0trHzgW"
      }
    },
    {
      "cell_type": "code",
      "source": [
        "# Specify the number of training, validation, testing samples.\n",
        "\n",
        "train_size = 200\n",
        "valid_size = 1800\n",
        "test_size = 200"
      ],
      "metadata": {
        "id": "YPAVI7m18Ggv"
      },
      "execution_count": 72,
      "outputs": []
    },
    {
      "cell_type": "code",
      "source": [
        "# Here we use the split_dataset function to split our dataset into three parts.\n",
        "X_train, X_valid, X_test, Y_train, Y_valid, Y_test = split_dataset(X, Y, total_size, train_size, valid_size)"
      ],
      "metadata": {
        "id": "SuuzU8cZ8H5w"
      },
      "execution_count": 73,
      "outputs": []
    },
    {
      "cell_type": "code",
      "source": [
        "# Define a range of alpha values (regularization parameters) using an exponential scale\n",
        "\n",
        "mse_train = []\n",
        "mse_valid = []\n",
        "\n",
        "exponents = np.arange(-2, 4.5, 0.5)  # 4.5 ensures 4 is included\n",
        "alphas = np.exp(exponents)\n",
        "\n",
        "    ###############################################\n",
        "    ###############################################\n",
        "    #### HINT: you can use the np.exp function ####\n",
        "    ###############################################\n",
        "    ###############################################\n",
        "\n",
        "\n",
        "# Iterate over the range of alpha values\n",
        "for alpha in alphas:\n",
        "\n",
        "    # Run RLS regression with a bias term added on train and validation sets\n",
        "    mse_train_nh, mse_valid_nh, Y_LS_train_nh, Y_LS_valid_nh = run_ols(X_train, X_valid, Y_train, Y_valid, alpha, augment=True)\n",
        "    mse_train.append(mse_train_nh)\n",
        "    mse_valid.append(mse_valid_nh)\n",
        "\n",
        "# Plot the MSE for the non-homogeneous model across different alphas\n",
        "plt.figure(figsize=(10, 6))\n",
        "plt.plot(np.log(alphas), mse_train, marker='o', label='Training MSE')\n",
        "plt.plot(np.log(alphas), mse_valid, marker='s', label='Validation MSE')\n",
        "plt.xlabel('ln(α)')\n",
        "plt.ylabel('Mean Squared Error')\n",
        "plt.title('MSE vs. ln(α) for Non-Homogeneous Model')\n",
        "plt.legend()\n",
        "plt.grid(True)\n",
        "plt.show()\n",
        "\n",
        "\n",
        "\n"
      ],
      "metadata": {
        "id": "B8tHdr-RHyen",
        "colab": {
          "base_uri": "https://localhost:8080/",
          "height": 564
        },
        "outputId": "e9e46a2f-ed6b-449e-bb2d-e75f7acc6c41"
      },
      "execution_count": 74,
      "outputs": [
        {
          "output_type": "display_data",
          "data": {
            "text/plain": [
              "<Figure size 1000x600 with 1 Axes>"
            ],
            "image/png": "[encoded data removed]"
          },
          "metadata": {}
        }
      ]
    },
    {
      "cell_type": "markdown",
      "source": [
        "---\n",
        "\n",
        "\n",
        "\n",
        "---\n",
        "\n",
        "\n",
        "### PART 2 (5 marks):\n",
        "\n",
        "\n",
        "---\n",
        "\n",
        "\n",
        "\n",
        "---\n",
        "\n",
        "\n",
        "\n",
        "1. ### What is the best value for lambda? Why?\n",
        "\n",
        "2. ### Use the best value of lambda to report the results on the test set."
      ],
      "metadata": {
        "id": "7pJ6sFasJMsp"
      }
    },
    {
      "cell_type": "code",
      "source": [
        "# Here you find the best value of lambda\n",
        "\n",
        "min_index = np.argmin(mse_valid)\n",
        "best_alpha = alphas[min_index]\n",
        "\n",
        "print(f\"The best value of lambda is: {best_alpha}\")"
      ],
      "metadata": {
        "id": "H00qLoDt-vjh",
        "colab": {
          "base_uri": "https://localhost:8080/"
        },
        "outputId": "d0e5ab82-d434-489e-bca6-bcc47daebd45"
      },
      "execution_count": 75,
      "outputs": [
        {
          "output_type": "stream",
          "name": "stdout",
          "text": [
            "The best value of lambda is: 7.38905609893065\n"
          ]
        }
      ]
    },
    {
      "cell_type": "code",
      "source": [
        "# Run OLS regression with a bias term added (non-homogeneous model)\n",
        "\n",
        "mse_train_nh, mse_valid_nh, Y_LS_train_nh, Y_LS_valid_nh = run_ols(X_train, X_test, Y_train, Y_test, best_alpha, augment=True)\n",
        "\n",
        "# Output the results for the non-homogeneous model\n",
        "\n",
        "print(f\"MSE on validation data: {mse_valid_nh}\")"
      ],
      "metadata": {
        "id": "HKPn0yjm-6tb",
        "colab": {
          "base_uri": "https://localhost:8080/"
        },
        "outputId": "88abbd12-35d8-4fed-953d-517e21ec3c60"
      },
      "execution_count": 76,
      "outputs": [
        {
          "output_type": "stream",
          "name": "stdout",
          "text": [
            "MSE on validation data: 9.816649057969363\n"
          ]
        }
      ]
    },
    {
      "cell_type": "markdown",
      "source": [
        "## PROBLEM 3 (30 marks): Preprocessing the data\n",
        "\n",
        "\n",
        "### In this question, we aim to improve the results of Regularized Least Squares (RLS) while still using only 200 training points and 1800 validation points. To achieve this, we will map the data points into a new space and then run RLS. In other words, we will preprocess X_train, X_valid, and X_test to obtain new Z_train, Z_valid, and Z_test datasets, which will have the same number of points but a different number of features.\n",
        "\n",
        "###NOTE: You will only get full mark in this question if your approach improves over the naive use of RLS we observed in the previous questions.\n"
      ],
      "metadata": {
        "id": "A3vjcNr0p0Q6"
      }
    },
    {
      "cell_type": "markdown",
      "source": [
        "\n",
        "---\n",
        "---\n",
        "### PART 1 (5 marks):\n",
        "---\n",
        "---\n",
        "\n",
        " - ## Choose a preprocessing approach (i.e., select a mapping) that transforms the 900-dimensional data points (900 pixels) into a new space. This new space can be either lower-dimensional or higher-dimensional. Clearly explain your preprocessing approach."
      ],
      "metadata": {
        "id": "_yrmVcW2J_fe"
      }
    },
    {
      "cell_type": "markdown",
      "source": [
        "---\n",
        "---\n",
        "### PART 2 (10 marks):\n",
        "---\n",
        "---\n",
        "\n",
        "\n",
        "\n",
        "- ## Implement your preprocessing approach. Then, run non-homogeneous Regularized Least Squares (RLS) in the new space for training set and validation set."
      ],
      "metadata": {
        "id": "uMjRrE4PJjWE"
      }
    },
    {
      "cell_type": "code",
      "source": [
        "# Load dataset from the CSV file\n",
        "df = pd.read_csv(csv_filename)  # Load the image data with metadata from a CSV file\n",
        "\n",
        "# Extract features by dropping the target columns ('radius', 'x', 'y')\n",
        "X = df.drop(columns=['radius', 'x', 'y']).values  # Features (only pixel data)\n",
        "\n",
        "# Extract target values (radius, x, and y)\n",
        "Y = df[['radius', 'x', 'y']].values  # Labels (radius, x, and y)\n",
        "\n",
        "# Define a function to transforms pixel values to a new space.\n",
        "def transform(X_df):\n",
        "\n",
        "  X_df_transform = []\n",
        "\n",
        "  for row in X_df:\n",
        "\n",
        "    positions = []\n",
        "    pixels = np.array(row)\n",
        "    image = pixels.reshape(image_size, image_size)\n",
        "\n",
        "    for image_row in image:\n",
        "        if np.any(pixels != 0):\n",
        "          first_pos = np.where(row != 0)[0][0]\n",
        "          last_pos = len(row) - np.where(row[::-1] != 0)[0][0] - 1\n",
        "          reversed_row = image_row[::-1]\n",
        "          last_non_zero = last_pos - np.argmax(reversed_row != 0)\n",
        "        else:\n",
        "          first_non_zero = -1\n",
        "          last_non_zero = -1\n",
        "\n",
        "        positions.extend([first_pos, last_pos])\n",
        "\n",
        "    positions = np.array(positions)\n",
        "    X_df_transform.append(positions)\n",
        "\n",
        "  processed_X_df = pd.DataFrame(X_df_transform)\n",
        "\n",
        "  return processed_X_df\n",
        "\n",
        "# Apply the transform function to the DataFrame\n",
        "processed_X_df = transform(X)\n",
        "\n",
        "# Display the first few rows of the updated DataFrame\n",
        "processed_X_df.head()"
      ],
      "metadata": {
        "id": "Wpi1AlTupy7t",
        "colab": {
          "base_uri": "https://localhost:8080/",
          "height": 236
        },
        "outputId": "3f98fefb-187c-4156-e936-8c65b7992541"
      },
      "execution_count": 77,
      "outputs": [
        {
          "output_type": "execute_result",
          "data": {
            "text/plain": [
              "    0    1    2    3    4    5    6    7    8    9   ...   50   51   52   53  \\\n",
              "0  106  505  106  505  106  505  106  505  106  505  ...  106  505  106  505   \n",
              "1  103  828  103  828  103  828  103  828  103  828  ...  103  828  103  828   \n",
              "2  162  705  162  705  162  705  162  705  162  705  ...  162  705  162  705   \n",
              "3  111  475  111  475  111  475  111  475  111  475  ...  111  475  111  475   \n",
              "4  260  563  260  563  260  563  260  563  260  563  ...  260  563  260  563   \n",
              "\n",
              "    54   55   56   57   58   59  \n",
              "0  106  505  106  505  106  505  \n",
              "1  103  828  103  828  103  828  \n",
              "2  162  705  162  705  162  705  \n",
              "3  111  475  111  475  111  475  \n",
              "4  260  563  260  563  260  563  \n",
              "\n",
              "[5 rows x 60 columns]"
            ],
            "text/html": [
              "\n",
              "  <div id=\"df-b5f80e76-4f95-40f5-890d-924cde510428\" class=\"colab-df-container\">\n",
              "    <div>\n",
              "<style scoped>\n",
              "    .dataframe tbody tr th:only-of-type {\n",
              "        vertical-align: middle;\n",
              "    }\n",
              "\n",
              "    .dataframe tbody tr th {\n",
              "        vertical-align: top;\n",
              "    }\n",
              "\n",
              "    .dataframe thead th {\n",
              "        text-align: right;\n",
              "    }\n",
              "</style>\n",
              "<table border=\"1\" class=\"dataframe\">\n",
              "  <thead>\n",
              "    <tr style=\"text-align: right;\">\n",
              "      <th></th>\n",
              "      <th>0</th>\n",
              "      <th>1</th>\n",
              "      <th>2</th>\n",
              "      <th>3</th>\n",
              "      <th>4</th>\n",
              "      <th>5</th>\n",
              "      <th>6</th>\n",
              "      <th>7</th>\n",
              "      <th>8</th>\n",
              "      <th>9</th>\n",
              "      <th>...</th>\n",
              "      <th>50</th>\n",
              "      <th>51</th>\n",
              "      <th>52</th>\n",
              "      <th>53</th>\n",
              "      <th>54</th>\n",
              "      <th>55</th>\n",
              "      <th>56</th>\n",
              "      <th>57</th>\n",
              "      <th>58</th>\n",
              "      <th>59</th>\n",
              "    </tr>\n",
              "  </thead>\n",
              "  <tbody>\n",
              "    <tr>\n",
              "      <th>0</th>\n",
              "      <td>106</td>\n",
              "      <td>505</td>\n",
              "      <td>106</td>\n",
              "      <td>505</td>\n",
              "      <td>106</td>\n",
              "      <td>505</td>\n",
              "      <td>106</td>\n",
              "      <td>505</td>\n",
              "      <td>106</td>\n",
              "      <td>505</td>\n",
              "      <td>...</td>\n",
              "      <td>106</td>\n",
              "      <td>505</td>\n",
              "      <td>106</td>\n",
              "      <td>505</td>\n",
              "      <td>106</td>\n",
              "      <td>505</td>\n",
              "      <td>106</td>\n",
              "      <td>505</td>\n",
              "      <td>106</td>\n",
              "      <td>505</td>\n",
              "    </tr>\n",
              "    <tr>\n",
              "      <th>1</th>\n",
              "      <td>103</td>\n",
              "      <td>828</td>\n",
              "      <td>103</td>\n",
              "      <td>828</td>\n",
              "      <td>103</td>\n",
              "      <td>828</td>\n",
              "      <td>103</td>\n",
              "      <td>828</td>\n",
              "      <td>103</td>\n",
              "      <td>828</td>\n",
              "      <td>...</td>\n",
              "      <td>103</td>\n",
              "      <td>828</td>\n",
              "      <td>103</td>\n",
              "      <td>828</td>\n",
              "      <td>103</td>\n",
              "      <td>828</td>\n",
              "      <td>103</td>\n",
              "      <td>828</td>\n",
              "      <td>103</td>\n",
              "      <td>828</td>\n",
              "    </tr>\n",
              "    <tr>\n",
              "      <th>2</th>\n",
              "      <td>162</td>\n",
              "      <td>705</td>\n",
              "      <td>162</td>\n",
              "      <td>705</td>\n",
              "      <td>162</td>\n",
              "      <td>705</td>\n",
              "      <td>162</td>\n",
              "      <td>705</td>\n",
              "      <td>162</td>\n",
              "      <td>705</td>\n",
              "      <td>...</td>\n",
              "      <td>162</td>\n",
              "      <td>705</td>\n",
              "      <td>162</td>\n",
              "      <td>705</td>\n",
              "      <td>162</td>\n",
              "      <td>705</td>\n",
              "      <td>162</td>\n",
              "      <td>705</td>\n",
              "      <td>162</td>\n",
              "      <td>705</td>\n",
              "    </tr>\n",
              "    <tr>\n",
              "      <th>3</th>\n",
              "      <td>111</td>\n",
              "      <td>475</td>\n",
              "      <td>111</td>\n",
              "      <td>475</td>\n",
              "      <td>111</td>\n",
              "      <td>475</td>\n",
              "      <td>111</td>\n",
              "      <td>475</td>\n",
              "      <td>111</td>\n",
              "      <td>475</td>\n",
              "      <td>...</td>\n",
              "      <td>111</td>\n",
              "      <td>475</td>\n",
              "      <td>111</td>\n",
              "      <td>475</td>\n",
              "      <td>111</td>\n",
              "      <td>475</td>\n",
              "      <td>111</td>\n",
              "      <td>475</td>\n",
              "      <td>111</td>\n",
              "      <td>475</td>\n",
              "    </tr>\n",
              "    <tr>\n",
              "      <th>4</th>\n",
              "      <td>260</td>\n",
              "      <td>563</td>\n",
              "      <td>260</td>\n",
              "      <td>563</td>\n",
              "      <td>260</td>\n",
              "      <td>563</td>\n",
              "      <td>260</td>\n",
              "      <td>563</td>\n",
              "      <td>260</td>\n",
              "      <td>563</td>\n",
              "      <td>...</td>\n",
              "      <td>260</td>\n",
              "      <td>563</td>\n",
              "      <td>260</td>\n",
              "      <td>563</td>\n",
              "      <td>260</td>\n",
              "      <td>563</td>\n",
              "      <td>260</td>\n",
              "      <td>563</td>\n",
              "      <td>260</td>\n",
              "      <td>563</td>\n",
              "    </tr>\n",
              "  </tbody>\n",
              "</table>\n",
              "<p>5 rows × 60 columns</p>\n",
              "</div>\n",
              "    <div class=\"colab-df-buttons\">\n",
              "\n",
              "  <div class=\"colab-df-container\">\n",
              "    <button class=\"colab-df-convert\" onclick=\"convertToInteractive('df-b5f80e76-4f95-40f5-890d-924cde510428')\"\n",
              "            title=\"Convert this dataframe to an interactive table.\"\n",
              "            style=\"display:none;\">\n",
              "\n",
              "  <svg xmlns=\"http://www.w3.org/2000/svg\" height=\"24px\" viewBox=\"0 -960 960 960\">\n",
              "    <path d=\"M120-120v-720h720v720H120Zm60-500h600v-160H180v160Zm220 220h160v-160H400v160Zm0 220h160v-160H400v160ZM180-400h160v-160H180v160Zm440 0h160v-160H620v160ZM180-180h160v-160H180v160Zm440 0h160v-160H620v160Z\"/>\n",
              "  </svg>\n",
              "    </button>\n",
              "\n",
              "  <style>\n",
              "    .colab-df-container {\n",
              "      display:flex;\n",
              "      gap: 12px;\n",
              "    }\n",
              "\n",
              "    .colab-df-convert {\n",
              "      background-color: #E8F0FE;\n",
              "      border: none;\n",
              "      border-radius: 50%;\n",
              "      cursor: pointer;\n",
              "      display: none;\n",
              "      fill: #1967D2;\n",
              "      height: 32px;\n",
              "      padding: 0 0 0 0;\n",
              "      width: 32px;\n",
              "    }\n",
              "\n",
              "    .colab-df-convert:hover {\n",
              "      background-color: #E2EBFA;\n",
              "      box-shadow: 0px 1px 2px rgba(60, 64, 67, 0.3), 0px 1px 3px 1px rgba(60, 64, 67, 0.15);\n",
              "      fill: #174EA6;\n",
              "    }\n",
              "\n",
              "    .colab-df-buttons div {\n",
              "      margin-bottom: 4px;\n",
              "    }\n",
              "\n",
              "    [theme=dark] .colab-df-convert {\n",
              "      background-color: #3B4455;\n",
              "      fill: #D2E3FC;\n",
              "    }\n",
              "\n",
              "    [theme=dark] .colab-df-convert:hover {\n",
              "      background-color: #434B5C;\n",
              "      box-shadow: 0px 1px 3px 1px rgba(0, 0, 0, 0.15);\n",
              "      filter: drop-shadow(0px 1px 2px rgba(0, 0, 0, 0.3));\n",
              "      fill: #FFFFFF;\n",
              "    }\n",
              "  </style>\n",
              "\n",
              "    <script>\n",
              "      const buttonEl =\n",
              "        document.querySelector('#df-b5f80e76-4f95-40f5-890d-924cde510428 button.colab-df-convert');\n",
              "      buttonEl.style.display =\n",
              "        google.colab.kernel.accessAllowed ? 'block' : 'none';\n",
              "\n",
              "      async function convertToInteractive(key) {\n",
              "        const element = document.querySelector('#df-b5f80e76-4f95-40f5-890d-924cde510428');\n",
              "        const dataTable =\n",
              "          await google.colab.kernel.invokeFunction('convertToInteractive',\n",
              "                                                    [key], {});\n",
              "        if (!dataTable) return;\n",
              "\n",
              "        const docLinkHtml = 'Like what you see? Visit the ' +\n",
              "          '<a target=\"_blank\" href=https://colab.research.google.com/notebooks/data_table.ipynb>data table notebook</a>'\n",
              "          + ' to learn more about interactive tables.';\n",
              "        element.innerHTML = '';\n",
              "        dataTable['output_type'] = 'display_data';\n",
              "        await google.colab.output.renderOutput(dataTable, element);\n",
              "        const docLink = document.createElement('div');\n",
              "        docLink.innerHTML = docLinkHtml;\n",
              "        element.appendChild(docLink);\n",
              "      }\n",
              "    </script>\n",
              "  </div>\n",
              "\n",
              "\n",
              "<div id=\"df-7021da9e-aa8c-41f5-b0e8-3acd45d00e18\">\n",
              "  <button class=\"colab-df-quickchart\" onclick=\"quickchart('df-7021da9e-aa8c-41f5-b0e8-3acd45d00e18')\"\n",
              "            title=\"Suggest charts\"\n",
              "            style=\"display:none;\">\n",
              "\n",
              "<svg xmlns=\"http://www.w3.org/2000/svg\" height=\"24px\"viewBox=\"0 0 24 24\"\n",
              "     width=\"24px\">\n",
              "    <g>\n",
              "        <path d=\"M19 3H5c-1.1 0-2 .9-2 2v14c0 1.1.9 2 2 2h14c1.1 0 2-.9 2-2V5c0-1.1-.9-2-2-2zM9 17H7v-7h2v7zm4 0h-2V7h2v10zm4 0h-2v-4h2v4z\"/>\n",
              "    </g>\n",
              "</svg>\n",
              "  </button>\n",
              "\n",
              "<style>\n",
              "  .colab-df-quickchart {\n",
              "      --bg-color: #E8F0FE;\n",
              "      --fill-color: #1967D2;\n",
              "      --hover-bg-color: #E2EBFA;\n",
              "      --hover-fill-color: #174EA6;\n",
              "      --disabled-fill-color: #AAA;\n",
              "      --disabled-bg-color: #DDD;\n",
              "  }\n",
              "\n",
              "  [theme=dark] .colab-df-quickchart {\n",
              "      --bg-color: #3B4455;\n",
              "      --fill-color: #D2E3FC;\n",
              "      --hover-bg-color: #434B5C;\n",
              "      --hover-fill-color: #FFFFFF;\n",
              "      --disabled-bg-color: #3B4455;\n",
              "      --disabled-fill-color: #666;\n",
              "  }\n",
              "\n",
              "  .colab-df-quickchart {\n",
              "    background-color: var(--bg-color);\n",
              "    border: none;\n",
              "    border-radius: 50%;\n",
              "    cursor: pointer;\n",
              "    display: none;\n",
              "    fill: var(--fill-color);\n",
              "    height: 32px;\n",
              "    padding: 0;\n",
              "    width: 32px;\n",
              "  }\n",
              "\n",
              "  .colab-df-quickchart:hover {\n",
              "    background-color: var(--hover-bg-color);\n",
              "    box-shadow: 0 1px 2px rgba(60, 64, 67, 0.3), 0 1px 3px 1px rgba(60, 64, 67, 0.15);\n",
              "    fill: var(--button-hover-fill-color);\n",
              "  }\n",
              "\n",
              "  .colab-df-quickchart-complete:disabled,\n",
              "  .colab-df-quickchart-complete:disabled:hover {\n",
              "    background-color: var(--disabled-bg-color);\n",
              "    fill: var(--disabled-fill-color);\n",
              "    box-shadow: none;\n",
              "  }\n",
              "\n",
              "  .colab-df-spinner {\n",
              "    border: 2px solid var(--fill-color);\n",
              "    border-color: transparent;\n",
              "    border-bottom-color: var(--fill-color);\n",
              "    animation:\n",
              "      spin 1s steps(1) infinite;\n",
              "  }\n",
              "\n",
              "  @keyframes spin {\n",
              "    0% {\n",
              "      border-color: transparent;\n",
              "      border-bottom-color: var(--fill-color);\n",
              "      border-left-color: var(--fill-color);\n",
              "    }\n",
              "    20% {\n",
              "      border-color: transparent;\n",
              "      border-left-color: var(--fill-color);\n",
              "      border-top-color: var(--fill-color);\n",
              "    }\n",
              "    30% {\n",
              "      border-color: transparent;\n",
              "      border-left-color: var(--fill-color);\n",
              "      border-top-color: var(--fill-color);\n",
              "      border-right-color: var(--fill-color);\n",
              "    }\n",
              "    40% {\n",
              "      border-color: transparent;\n",
              "      border-right-color: var(--fill-color);\n",
              "      border-top-color: var(--fill-color);\n",
              "    }\n",
              "    60% {\n",
              "      border-color: transparent;\n",
              "      border-right-color: var(--fill-color);\n",
              "    }\n",
              "    80% {\n",
              "      border-color: transparent;\n",
              "      border-right-color: var(--fill-color);\n",
              "      border-bottom-color: var(--fill-color);\n",
              "    }\n",
              "    90% {\n",
              "      border-color: transparent;\n",
              "      border-bottom-color: var(--fill-color);\n",
              "    }\n",
              "  }\n",
              "</style>\n",
              "\n",
              "  <script>\n",
              "    async function quickchart(key) {\n",
              "      const quickchartButtonEl =\n",
              "        document.querySelector('#' + key + ' button');\n",
              "      quickchartButtonEl.disabled = true;  // To prevent multiple clicks.\n",
              "      quickchartButtonEl.classList.add('colab-df-spinner');\n",
              "      try {\n",
              "        const charts = await google.colab.kernel.invokeFunction(\n",
              "            'suggestCharts', [key], {});\n",
              "      } catch (error) {\n",
              "        console.error('Error during call to suggestCharts:', error);\n",
              "      }\n",
              "      quickchartButtonEl.classList.remove('colab-df-spinner');\n",
              "      quickchartButtonEl.classList.add('colab-df-quickchart-complete');\n",
              "    }\n",
              "    (() => {\n",
              "      let quickchartButtonEl =\n",
              "        document.querySelector('#df-7021da9e-aa8c-41f5-b0e8-3acd45d00e18 button');\n",
              "      quickchartButtonEl.style.display =\n",
              "        google.colab.kernel.accessAllowed ? 'block' : 'none';\n",
              "    })();\n",
              "  </script>\n",
              "</div>\n",
              "\n",
              "    </div>\n",
              "  </div>\n"
            ],
            "application/vnd.google.colaboratory.intrinsic+json": {
              "type": "dataframe",
              "variable_name": "processed_X_df"
            }
          },
          "metadata": {},
          "execution_count": 77
        }
      ]
    },
    {
      "cell_type": "markdown",
      "source": [
        "---\n",
        "---\n",
        "### PART 3 (15 marks):\n",
        "---\n",
        "---\n",
        "\n",
        "\n",
        "- ## Report the MSE on the training and validation sets for different values of lambda and plot it. **As mentioned, it should perform better for getting points.** choose the best value of lambda, apply your preprocessing approach to the test set, and then report the MSE after running RLS.\n",
        "\n"
      ],
      "metadata": {
        "id": "aq8QgowJwriU"
      }
    },
    {
      "cell_type": "code",
      "source": [
        "# Specify the number of training, validation, testing samples.\n",
        "\n",
        "train_size = 200\n",
        "valid_size = 1800\n",
        "test_size = 200"
      ],
      "metadata": {
        "id": "c5hTDDY8R8sq"
      },
      "execution_count": 78,
      "outputs": []
    },
    {
      "cell_type": "code",
      "source": [
        "########################################################\n",
        "########################################################\n",
        "#### Please take note that we insert processed_X_df ####\n",
        "#### as the new input for splitting                 ####\n",
        "########################################################\n",
        "########################################################\n",
        "X_train, X_valid, X_test, Y_train, Y_valid, Y_test = split_dataset(processed_X_df, Y, total_size, train_size, valid_size)"
      ],
      "metadata": {
        "id": "735hxlxUR_GJ"
      },
      "execution_count": 79,
      "outputs": []
    },
    {
      "cell_type": "code",
      "source": [
        "# Define a range of alpha values (regularization parameters) using an exponential scale\n",
        "\n",
        "mse_train = []\n",
        "mse_valid = []\n",
        "\n",
        "exponents = np.arange(-2, 4.5, 0.5)  # 4.5 ensures 4 is included\n",
        "alphas = np.exp(exponents)\n",
        "\n",
        "for alpha in alphas:\n",
        "\n",
        "    # Run RLS regression with a bias term added on train and validation sets\n",
        "    mse_train_nh, mse_valid_nh, Y_LS_train_nh, Y_LS_valid_nh = run_ols(X_train, X_valid, Y_train, Y_valid, alpha, augment=True)\n",
        "    mse_train.append(mse_train_nh)\n",
        "    mse_valid.append(mse_valid_nh)"
      ],
      "metadata": {
        "id": "DOzgptq5SNOf"
      },
      "execution_count": 80,
      "outputs": []
    },
    {
      "cell_type": "code",
      "source": [
        "# Plot the MSE for the non-homogeneous model across different alphas\n",
        "plt.figure(figsize=(10, 6))\n",
        "plt.plot(np.log(alphas), mse_train, marker='o', label='Training MSE')\n",
        "plt.plot(np.log(alphas), mse_valid, marker='s', label='Validation MSE')\n",
        "plt.xlabel('ln(α)')\n",
        "plt.ylabel('Mean Squared Error')\n",
        "plt.title('MSE vs. ln(α) for Non-Homogeneous Model')\n",
        "plt.legend()\n",
        "plt.grid(True)\n",
        "plt.show()"
      ],
      "metadata": {
        "id": "7kxj3b-HuAM8",
        "colab": {
          "base_uri": "https://localhost:8080/",
          "height": 564
        },
        "outputId": "e9ec1b3d-d1bc-47db-cda4-d0bcecd4d629"
      },
      "execution_count": 81,
      "outputs": [
        {
          "output_type": "display_data",
          "data": {
            "text/plain": [
              "<Figure size 1000x600 with 1 Axes>"
            ],
            "image/png": "[encoded data removed]"
          },
          "metadata": {}
        }
      ]
    },
    {
      "cell_type": "code",
      "source": [
        "# Here you find the best value of lambda\n",
        "\n",
        "min_index = np.argmin(mse_valid)\n",
        "best_alpha = alphas[min_index]\n",
        "\n",
        "print(f\"The best value of lambda is: {best_alpha}\")"
      ],
      "metadata": {
        "id": "pF4SS7GoBmMU",
        "colab": {
          "base_uri": "https://localhost:8080/"
        },
        "outputId": "ae7b54a7-0897-4e96-a9d5-78a82c6a5f9e"
      },
      "execution_count": 82,
      "outputs": [
        {
          "output_type": "stream",
          "name": "stdout",
          "text": [
            "The best value of lambda is: 0.1353352832366127\n"
          ]
        }
      ]
    },
    {
      "cell_type": "code",
      "source": [
        "# Run OLS regression with a bias term added (non-homogeneous model)\n",
        "\n",
        "mse_train_nh, mse_test_nh, Y_LS_train_nh, Y_LS_test_nh = run_ols(X_train, X_test, Y_train, Y_test, best_alpha, augment=True)\n",
        "\n",
        "# Output the results for the non-homogeneous model\n",
        "\n",
        "print(f\"MSE on test data: {mse_test_nh}\")"
      ],
      "metadata": {
        "id": "dUoS9rFJxOC0",
        "colab": {
          "base_uri": "https://localhost:8080/"
        },
        "outputId": "60b5778d-4966-4b8d-af60-3dea9b62ab86"
      },
      "execution_count": 83,
      "outputs": [
        {
          "output_type": "stream",
          "name": "stdout",
          "text": [
            "MSE on test data: 6.0871978263818285\n"
          ]
        }
      ]
    }
  ]
}